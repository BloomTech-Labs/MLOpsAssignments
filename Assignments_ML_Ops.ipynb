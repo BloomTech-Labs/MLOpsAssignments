{
 "nbformat": 4,
 "nbformat_minor": 0,
 "metadata": {
  "colab": {
   "name": "API_Engineer.ipynb",
   "provenance": [],
   "collapsed_sections": []
  },
  "kernelspec": {
   "name": "python3",
   "display_name": "Python 3"
  },
  "language_info": {
   "name": "python"
  }
 },
 "cells": [
  {
   "cell_type": "markdown",
   "metadata": {
    "id": "coE5a-H-ZZ9X"
   },
   "source": [
    "# API Engineer aka ML Ops"
   ]
  },
  {
   "cell_type": "markdown",
   "metadata": {
    "id": "sNYKH8C2La3O"
   },
   "source": [
    "## Welcome to the ML Ops / API Engineering Role!\n",
    "\n",
    "This course will walk you through everything you need to know to be a Rockstar API Engineer specializing in ML Ops.\n"
   ]
  },
  {
   "cell_type": "markdown",
   "source": [
    "### Course Outline\n",
    "- Web Frameworks for Python\n",
    "- API & Web App Design (FastAPI vs Flask)\n",
    "- Systems Architecture\n",
    "- Application Deployment"
   ],
   "metadata": {
    "collapsed": false
   }
  },
  {
   "cell_type": "markdown",
   "metadata": {
    "id": "n9VCnF73bG6K"
   },
   "source": [
    "### API Frameworks for Python\n",
    "From simple to more complex...\n",
    "\n",
    "- AWS Lambda: Ultra Micro Service Framework\n",
    "    - Resource: [AWS Lambda](https://aws.amazon.com/lambda)\n",
    "    - Pros\n",
    "        - Highly Agile\n",
    "        - Encapsulation of a Singular Purpose\n",
    "    - Cons\n",
    "        - Encapsulation of a Singular Purpose\n",
    "        - Not suitable for complex projects\n",
    "- FastAPI: Micro Services Framework\n",
    "    - Resource: [FastAPI](https://fastapi.tiangolo.com)\n",
    "    - Pros\n",
    "        - Quick Setup\n",
    "        - Automatically transforms json to and from python types\n",
    "    - Cons\n",
    "        - Not suitable for portfolio apps (no frontend tools)\n",
    "- Flask: Modular Web Framework\n",
    "    - Resource: [Flask](https://flask.palletsprojects.com)\n",
    "    - Pros\n",
    "        - Perfect for Solo Projects\n",
    "        - Highly Flexible\n",
    "        - Extensible\n",
    "        - Large Support Community\n",
    "    - Cons\n",
    "        - None\n",
    "- Django: Fully Featured Web Framework\n",
    "    - Resource: [Django](https://www.djangoproject.com)\n",
    "    - Pros\n",
    "        - Fully Featured\n",
    "    - Cons\n",
    "        - Complexity: Barrier to Entry\n",
    "        - It's Django's Way or Nothing\n",
    "        - Annoying Learning Curve\n",
    "        - Old and Crusty\n"
   ]
  },
  {
   "cell_type": "markdown",
   "metadata": {
    "id": "c9tpDtw7boip"
   },
   "source": [
    "### API Design: Gud Naming is Hard\n",
    "- API Endpoints are URLs that point to behavior\n",
    "- Micro-service API endpoints typically return json\n",
    "- Web API endpoints typically return rendered HTML\n",
    "- [HTTP Request Methods](https://www.w3schools.com/tags/ref_httpmethods.asp): Types of Endpoints\n",
    "    - GET\n",
    "    - PUT\n",
    "    - POST\n",
    "    - PATCH\n",
    "    - DELETE\n",
    "\n",
    "We will primarily use the GET and POST methods for Labs projects."
   ]
  },
  {
   "cell_type": "markdown",
   "metadata": {
    "id": "ObBw9ZxbVwja"
   },
   "source": [
    "### Be The Glue\n",
    "\n",
    "The most important part of your role as the API Engineer is the API contract! This is a team wide agreement about how to name endpoints. Don't wait until the last minute to hash this out.\n",
    "\n",
    "```\n",
    "app.com/app/ds-api/data/vis/charts/bars/detail  # Too verbose\n",
    "...\n",
    "app.com/detail  # Too simple\n",
    "```\n",
    "\n",
    "The exact details of your Primary Project's API contract will be up to you and your team.\n",
    "\n",
    "As the DS API Engineer you will be the glue that holds your team together. Your code will touch everyone else's code. If your code breaks, everything breaks. No Pressure!\n",
    "\n"
   ]
  },
  {
   "cell_type": "markdown",
   "metadata": {
    "id": "Zb_Zxm_8bJAT"
   },
   "source": [
    "## Super Simple Flask App"
   ]
  },
  {
   "cell_type": "markdown",
   "metadata": {
    "id": "LC639Vj7HtZ7"
   },
   "source": [
    "This site is comprised of a single python module named `main.py` and a single HTML file named `index.html`. This is the simplest example this author could think of. But it clearly demonstrates how to send vlues from Python to HTML via Jinja in a Flask app.\n",
    "\n",
    "[Jinja Documentation](https://jinja.palletsprojects.com)\n",
    "Jinja is included when you install/import Flask, it just works. Flask is built on Jinja2.\n",
    "\n",
    "The HTML templates must reside inside the templates folder. This is where Jinja looks for templates. Templates are not the same as traditional HTML, they can contain other elements that get 'rendered' into HTML on the server before the page sent to the client. This is similar to the way PHP works and not at all like JavaScript. If you want client-driven behavior, you should generally use JavaScript or some other client side code execution context.\n",
    "\n",
    "### Project Structure\n",
    "- `/ProjectFolder`\n",
    "    - `/templates`\n",
    "        - `index.html`\n",
    "    - `main.py`"
   ]
  },
  {
   "cell_type": "markdown",
   "metadata": {
    "id": "35m3zitqrD1N"
   },
   "source": [
    "### `main.py`\n",
    "```python\n",
    "from random import gauss\n",
    "\n",
    "from flask import Flask, render_template\n",
    "\n",
    "API = Flask(__name__)\n",
    "\n",
    "\n",
    "@API.route(\"/\")\n",
    "def home():\n",
    "    return render_template(\n",
    "        \"index.html\",\n",
    "        rand_value=gauss(3.14, 5),\n",
    "    )\n",
    "\n",
    "\n",
    "if __name__ == '__main__':\n",
    "    API.run()\n",
    "```\n",
    "\n",
    "### `templates/index.html`\n",
    "```html\n",
    "<!DOCTYPE html>\n",
    "<html lang=\"en\">\n",
    "<head>\n",
    "    <meta charset=\"UTF-8\">\n",
    "    <title>Super Simple Flask Site</title>\n",
    "    <style>\n",
    "        .highlight {\n",
    "            color: darkblue;\n",
    "        }\n",
    "    </style>\n",
    "</head>\n",
    "<body>\n",
    "<header>\n",
    "    <h1>Super Simple Flask Site</h1>\n",
    "</header>\n",
    "<h1>Home Page</h1>\n",
    "<h2>Random Value: <span class=\"highlight\">{{ rand_value | safe }}</span></h2>\n",
    "<p>Refresh the page to generate a new random value.</p>\n",
    "</body>\n",
    "</html>\n",
    "```"
   ]
  },
  {
   "cell_type": "markdown",
   "metadata": {
    "id": "0rloEwZZBYa-"
   },
   "source": [
    "To run this app locally in your browser enter the following in your terminal...\n",
    "\n",
    "```shell\n",
    "cd ProjectFolder\n",
    "python -m main\n",
    "```"
   ]
  },
  {
   "cell_type": "markdown",
   "metadata": {
    "id": "ogAEOLgPxZbc"
   },
   "source": [
    "Obviously this site is lacking many basic features.\n",
    "\n",
    "For a more fully-featured app, see the code here => [Example Flask App with Style](https://github.com/BloomTech-Labs/simpleFlaskProject)"
   ]
  },
  {
   "cell_type": "code",
   "metadata": {
    "colab": {
     "base_uri": "https://localhost:8080/"
    },
    "id": "EYuQRvOO64ol",
    "outputId": "b51b463c-3dac-41e9-9e77-5a7b3c2f7695"
   },
   "source": [
    "from flask import render_template\n",
    "\n",
    "help(render_template)"
   ],
   "execution_count": 1,
   "outputs": [
    {
     "name": "stdout",
     "output_type": "stream",
     "text": [
      "Help on function render_template in module flask.templating:\n",
      "\n",
      "render_template(template_name_or_list: Union[str, List[str]], **context: Any) -> str\n",
      "    Renders a template from the template folder with the given\n",
      "    context.\n",
      "    \n",
      "    :param template_name_or_list: the name of the template to be\n",
      "                                  rendered, or an iterable with template names\n",
      "                                  the first one existing will be rendered\n",
      "    :param context: the variables that should be available in the\n",
      "                    context of the template.\n",
      "\n"
     ]
    }
   ]
  },
  {
   "cell_type": "markdown",
   "metadata": {
    "id": "Sfs6lJWY7Xx6"
   },
   "source": [
    "The `**context` input parameter can be any number of key, value pairs as kwarg arguments to the `render_template` function. That means we can use Python as our compute engine and HTML as our layout engine by leveraging Jinja. Jinja offers two special template markers `{{ ... }}` and `{% ... %}`. The first one allows the rendering of literal HTML. The second allows execution of Python code, albeit a limited subset of the language. It's generally better/easier to strictly use the literal HTML marker: `{{ ... }}` while you begin to learn Jinja. Anything that is printable in Python can be sent to this type of marker, so it's very powerful and easy to use.\n",
    "\n",
    "While the code marker `{% ... %}` allows us to write Python inside our HTML templates, and that sounds really cool - it's a terrible idea. You'll have no IDE code highlighting or linting or meaningful way to test, other than testing the site as a whole. Worse still, Jinja only supports a subset of the language and it's own syntax, so it's a lot like learning a whole new programming language, and it's prone to errors that are difficult to debug. Keep it simple. You can pass any Python object into Jinja and have access to all its properties and methods without too much trouble.\n",
    "\n",
    "Likewise, the HTML marker is built to take an HTML string from Python and turn it into HTML tags etc. However, it's best not to write HTML in Python! Keep your languages seperate. Just because you can, doesn't mean you should. Best practice is to do your computing in Python and only send printable output to be rendered into HTML. You can send as many components as you like, give them good names.\n"
   ]
  },
  {
   "cell_type": "markdown",
   "metadata": {
    "id": "L5E1G0nbbi80"
   },
   "source": [
    "## Designing Systems Architecture\n",
    "- SOLID Principles for Maintainable Code\n",
    "- Best Practices: PEP8 Standard\n",
    "- Separation of Concerns\n",
    "- OOP - Object Oriented Programming\n",
    "    - Polymorphism: A core feature of OOP where one object type is designed to be interchangeable with another object type\n",
    "    - Encapsulation: A core feature of OOP where the implementation details are self contained and not exposed except through an interface\n",
    "    - Abstraction: A general solution\n",
    "\n",
    "\n"
   ]
  },
  {
   "cell_type": "markdown",
   "metadata": {
    "id": "537JIQj-bmnA"
   },
   "source": []
  },
  {
   "cell_type": "markdown",
   "metadata": {
    "id": "oe4kdB0cbPSA"
   },
   "source": [
    "## Deployment Strategies"
   ]
  },
  {
   "cell_type": "markdown",
   "metadata": {
    "id": "96s8rE9Yr4GG",
    "pycharm": {
     "name": "#%% md\n"
    }
   },
   "source": [
    "### Python Deployment Platforms\n",
    "\n",
    "BloomTech Labs uses AWS Elastic Beanstalk to host Data Science APIs. That said, you may find it beneficial to use Heroku for testing. Heroku is also a good (cheap) way to keep your API hosted after you graduate. All Labs AWS deployments will be taken down eventually and handed off to the stakeholder.\n",
    "\n",
    "#### 1. Heroku\n",
    "- Push to GitHub\n",
    "- Heroku -> Deploy via GitHub\n",
    "\n",
    "#### 2. AWS Elastic Beanstalk\n",
    "- `eb init` Initializes the app locally\n",
    "- `eb create` Creates the app and pushes to AWS EB\n",
    "- `eb deploy` Deploys updates (not needed for maiden voyage)\n",
    "- `eb open` Opens the deployed app in your browser\n",
    "\n",
    "It is vitally important to commit to git BEFORE you `create` or `deploy` your app. AWS EB will push your most recent commit - and not your most recent uncommitted changes. This can trip you up very easily, and it's not at all obvious that something went wrong.\n",
    "\n",
    "There are several small differences between Heroku and AWS, even though, under the covers - Heroku is running on AWS. The biggest difference is the `Procfile`. In AWS we like to use a combination of gunicorn and uvicorn. Heroku doesn't support this combination.\n",
    "\n",
    "#### Heroku Procfile (this works on AWS also)\n",
    "```\n",
    "# Procfile\n",
    "web: gunicorn app.main:API\n",
    "```\n",
    "\n",
    "#### AWS Procfile with 4 workers\n",
    "```\n",
    "# Procfile\n",
    "web: gunicorn app.main:API -w 4 -k uvicorn.workers.UvicornWorker\n",
    "```\n",
    "The exact application entrypoint `app.main:API` may be different for each project.\n"
   ]
  }
 ]
}