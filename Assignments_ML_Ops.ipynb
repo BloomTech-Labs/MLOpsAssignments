{
 "nbformat": 4,
 "nbformat_minor": 0,
 "metadata": {
  "colab": {
   "name": "API_Engineer.ipynb",
   "provenance": [],
   "collapsed_sections": []
  },
  "kernelspec": {
   "name": "python3",
   "display_name": "Python 3"
  },
  "language_info": {
   "name": "python"
  }
 },
 "cells": [
  {
   "cell_type": "markdown",
   "metadata": {
    "id": "coE5a-H-ZZ9X"
   },
   "source": [
    "# API Engineer aka ML Ops"
   ]
  },
  {
   "cell_type": "markdown",
   "metadata": {
    "id": "sNYKH8C2La3O"
   },
   "source": [
    "## Introduction"
   ]
  },
  {
   "cell_type": "markdown",
   "metadata": {
    "id": "rxwRaqnLZvXp"
   },
   "source": [
    "### Learning Objects\n",
    "1. Understand and be able to choose from the various API frameworks\n",
    "2. Understand the challenges and strategies of API design\n",
    "3. Understand the challenges and strategies of API deployment\n",
    "4. Understand the challenges and strategies of API debugging\n",
    "5. Understand the challenges and strategies of Designing Systems Architecture\n",
    "6. Understand the value of PEP8, project standards and code style guidelines\n"
   ]
  },
  {
   "cell_type": "markdown",
   "metadata": {
    "id": "n9VCnF73bG6K"
   },
   "source": [
    "### API Frameworks for Python\n",
    "From simple to more complex...\n",
    "\n",
    "- AWS Lambda: Ultra Micro Service Framework\n",
    "    - Resource: https://aws.amazon.com/lambda/\n",
    "    - Pros\n",
    "        - Highly Agile\n",
    "        - Encapsulation of a Singular Purpose\n",
    "    - Cons\n",
    "        - Encapsulation of a Singular Purpose\n",
    "        - Not suitable for complex projects\n",
    "- FastAPI: Micro Services Framework\n",
    "    - Resource: https://fastapi.tiangolo.com/\n",
    "    - Pros\n",
    "        - Quick Setup\n",
    "        - Automatically jsonifies return values\n",
    "    - Cons\n",
    "        - Not suitable for portfolio apps (no frontend)\n",
    "- Flask: Modular Web Framework\n",
    "    - Resource: https://flask.palletsprojects.com/en/2.0.x/\n",
    "    - Pros\n",
    "        - Perfect for Solo Projects\n",
    "        - Highly Flexible\n",
    "        - Extensible\n",
    "        - Large Support Community\n",
    "    - Cons\n",
    "        - None\n",
    "- Django: Fully Featured Web Framework\n",
    "    - Resource: https://www.djangoproject.com/\n",
    "    - Pros\n",
    "        - Fully Featured\n",
    "    - Cons\n",
    "        - Complexity: Barrier to Entry\n",
    "        - It's Django's Way or Nothing\n",
    "        - Annoying Learning Curve\n",
    "        - Old and Crusty\n"
   ]
  },
  {
   "cell_type": "markdown",
   "metadata": {
    "id": "c9tpDtw7boip"
   },
   "source": [
    "### API Design: Gud Naming\n",
    "- Endpoints are URLs that point to behavior\n",
    "- Micro-service API endpoints typically return json\n",
    "- Web API endpoints typically return rendered HTML\n",
    "- [HTTP Request Methods](https://www.w3schools.com/tags/ref_httpmethods.asp): Types of Endpoints\n",
    "    - GET\n",
    "    - POST\n",
    "    - PUT\n",
    "    - HEAD\n",
    "    - DELETE\n",
    "    - PATCH\n",
    "    - OPTIONS\n",
    "\n",
    "We will primarily use the GET and POST methods."
   ]
  },
  {
   "cell_type": "markdown",
   "metadata": {
    "id": "ObBw9ZxbVwja"
   },
   "source": [
    "### Be The Glue\n",
    "\n",
    "The most important part of your role as the API Engineer is the API contract! This is a team wide agreement about how to name endpoints. Don't wait until the last minute to hash this out.\n",
    "\n",
    "```\n",
    "app.com/app/ds-api/data/vis/charts/bars/detail  # Too verbose\n",
    "...\n",
    "app.com/detail  # Too simple\n",
    "```\n",
    "\n",
    "The exact details of your Primary Project's API contract will be up to you and your team. The Bandersnatch Project has a strict api contract already. Please don't change it. It's very simple by design.\n",
    "\n",
    "As the DS API Engineer you will be the glue that holds your team together. Your code will touch everyone elses code. If your code breaks, everything breaks. No Presure!\n",
    "\n"
   ]
  },
  {
   "cell_type": "markdown",
   "metadata": {
    "id": "Zb_Zxm_8bJAT"
   },
   "source": [
    "## Super Simple Flask App"
   ]
  },
  {
   "cell_type": "markdown",
   "metadata": {
    "id": "LC639Vj7HtZ7"
   },
   "source": [
    "This site is comprised of a single python module named `main.py` and a single HTML file named `index.html`. This is the simplest example this author could think of. But it clearly demonstrates how to send vlues from Python to HTML via Jinja in a Flask app.\n",
    "\n",
    "[Jinja Documentation](https://jinja.palletsprojects.com)\n",
    "Jinja is included when you install/import Flask, it just works. Flask is built on Jinja2.\n",
    "\n",
    "The HTML templates must reside inside the templates folder. This is where Jinja looks for templates. Templates are not the same as traditional HTML, they can contain other elements that get 'rendered' into HTML on the server before the page sent to the client. This is similar to the way PHP works and not at all like JavaScript. If you want client-driven behavior, you should generally use JavaScript or some other client side code execution context.\n",
    "\n",
    "### Project Structure\n",
    "- `/ProjectFolder`\n",
    "    - `/templates`\n",
    "        - `index.html`\n",
    "    - `main.py`"
   ]
  },
  {
   "cell_type": "markdown",
   "metadata": {
    "id": "35m3zitqrD1N"
   },
   "source": [
    "\n",
    "\n",
    "\n",
    "\n",
    "### `main.py`\n",
    "```python\n",
    "from random import gauss\n",
    "\n",
    "from flask import Flask, render_template\n",
    "\n",
    "API = Flask(__name__)\n",
    "\n",
    "\n",
    "@API.route(\"/\")\n",
    "def home():\n",
    "    return render_template(\n",
    "        \"index.html\",\n",
    "        rand_value=gauss(3.14, 5),\n",
    "    )\n",
    "\n",
    "\n",
    "if __name__ == '__main__':\n",
    "    API.run()\n",
    "\n",
    "```\n",
    "\n",
    "### `templates/index.html`\n",
    "```html\n",
    "<!DOCTYPE html>\n",
    "<html lang=\"en\">\n",
    "<head>\n",
    "    <meta charset=\"UTF-8\">\n",
    "    <title>Super Simple Flask Site</title>\n",
    "    <style>\n",
    "        .highlight {\n",
    "            color: darkblue;\n",
    "        }\n",
    "    </style>\n",
    "</head>\n",
    "<body>\n",
    "<header>\n",
    "    <h1>Super Simple Flask Site</h1>\n",
    "</header>\n",
    "<h1>Home Page</h1>\n",
    "<h2>Random Value: <span class=\"highlight\">{{ rand_value | safe }}</span></h2>\n",
    "<p>Refresh the page to generate a new random value.</p>\n",
    "</body>\n",
    "</html>\n",
    "```"
   ]
  },
  {
   "cell_type": "markdown",
   "metadata": {
    "id": "0rloEwZZBYa-"
   },
   "source": [
    "To run this app locally in your browser enter the following in your terminal...\n",
    "```\n",
    "$ cd ProjectFolder\n",
    "$ python -m main\n",
    "```"
   ]
  },
  {
   "cell_type": "markdown",
   "metadata": {
    "id": "ogAEOLgPxZbc"
   },
   "source": [
    "Obviously this site is lacking many basic features.\n",
    "\n",
    "For a more fleashed-out app, see the code here => [Example Flask App with Style](https://github.com/BloomTech-Labs/simpleFlaskProject)"
   ]
  },
  {
   "cell_type": "code",
   "metadata": {
    "colab": {
     "base_uri": "https://localhost:8080/"
    },
    "id": "EYuQRvOO64ol",
    "outputId": "b51b463c-3dac-41e9-9e77-5a7b3c2f7695"
   },
   "source": [
    "from flask import render_template\n",
    "\n",
    "help(render_template)"
   ],
   "execution_count": null,
   "outputs": [
    {
     "output_type": "stream",
     "text": [
      "Help on function render_template in module flask.templating:\n",
      "\n",
      "render_template(template_name_or_list, **context)\n",
      "    Renders a template from the template folder with the given\n",
      "    context.\n",
      "    \n",
      "    :param template_name_or_list: the name of the template to be\n",
      "                                  rendered, or an iterable with template names\n",
      "                                  the first one existing will be rendered\n",
      "    :param context: the variables that should be available in the\n",
      "                    context of the template.\n",
      "\n"
     ],
     "name": "stdout"
    }
   ]
  },
  {
   "cell_type": "markdown",
   "metadata": {
    "id": "I7EHl1KoLEx9"
   },
   "source": [
    "[Jinja Documentation](https://jinja.palletsprojects.com/)"
   ]
  },
  {
   "cell_type": "markdown",
   "metadata": {
    "id": "Sfs6lJWY7Xx6"
   },
   "source": [
    "The `**context` input parameter can be any number of key, value pairs as kwarg arguments to the `render_template` function. That means we can use Python as our compute engine and HTML as our layout engine by leveraging Jinja. Jinja offers two special template markers `{{ ... }}` and `{% ... %}`. The first one allows the rendering of literal HTML. The second allows execution of Python code, albeit a limited subset of the language. It's generally better/easier to strictly use the literal HTML marker: `{{ ... }}` while you begin to learn Jinja. Anything that is printable in Python can be sent to this type of marker, so it's very powerful and easy to use.\n",
    "\n",
    "While the code marker `{% ... %}` allows us to write Python inside our HTML templates, and that sounds really cool - it's a terrible idea. You'll have no IDE code highlighting or linting or meaningful way to test, other than testing the site as a whole. Worse still, Jinja only supports a subset of the language and it's own syntax, so it's a lot like learning a whole new programming language, and it's prone to errors that are difficult to debug. Keep it simple. You can pass any Python object into Jinja and have access to all its properties and methods without too much trouble.\n",
    "\n",
    "Likewise, the HTML marker is built to take an HTML string from Python and turn it into HTML tags etc. However, it's best not to write HTML in Python! Keep your languages seperate. Just because you can, doesn't mean you should. Best practice is to do your computing in Python and only send printable output to be rendered into HTML. You can send as many components as you like, give them good names.\n"
   ]
  },
  {
   "cell_type": "markdown",
   "metadata": {
    "id": "L5E1G0nbbi80"
   },
   "source": [
    "## Designing Systems Architecture\n",
    "- SOLID Principles for Maintainable Code\n",
    "- Best Practices: PEP8 Standard\n",
    "- Separation of Concerns\n",
    "- OOP - Object Oriented Programming\n",
    "    - Polymorphism: A core feature of OOP where one object type is designed to be interchangeable with another object type\n",
    "    - Encapsulation: A core feature of OOP where the implementation details are self contained and not exposed except through an interface\n",
    "    - Abstraction: A general solution\n",
    "\n",
    "\n"
   ]
  },
  {
   "cell_type": "markdown",
   "metadata": {
    "id": "537JIQj-bmnA"
   },
   "source": [
    "## Application Deployment\n",
    "- AWS Elastic Beanstalk\n",
    "- Heroku"
   ]
  },
  {
   "cell_type": "markdown",
   "metadata": {
    "id": "oe4kdB0cbPSA"
   },
   "source": [
    "## Deployment Strategies"
   ]
  },
  {
   "cell_type": "markdown",
   "metadata": {
    "id": "96s8rE9Yr4GG"
   },
   "source": [
    "### Python Deployment Platforms\n",
    "\n",
    "BloomTech Labs uses AWS Elastic Beanstalk to host Data Science APIs. That said, you may find it beneficial to use Heroku for testing. Heroku is also a good (cheap) way to keep your API hosted after you graduate. All Labs AWS deployments will be taken down eventually due to cost.\n",
    "\n",
    "#### 1. Heroku\n",
    "- Push to GitHub feature branch\n",
    "- Merge into main (master)\n",
    "- Heroku -> Deploy via GitHub\n",
    "\n",
    "#### 2. AWS Elastic Beanstalk\n",
    "- `eb init` Initializes the app locally\n",
    "- `eb create` Creates the app and pushes to AWS EB\n",
    "- `eb deploy` Deploys updates (not needed for maiden voyage)\n",
    "- `eb open` Opens the deployed app in your browser\n",
    "\n",
    "It is vitally important to commit to git BEFORE you `create` or `deploy` your app. AWS EB will push your most recent commit - and not your most recent uncommited changes. This can trip you up very easily, and it's not at all obvious that something went wrong.\n",
    "\n",
    "There are several small differences between Heroku and AWS, even though, under the covers - Heroku is running on AWS. The biggest difference is the `Procfile`. In AWS we like to use a combination of gunicorn and uvicorn. Heroku doesn't support uvicorn.\n",
    "\n",
    "The number of workers refers to the number of CPUs available to the app. AWS is much faster than Heroku, besides the number of workers.\n",
    "\n",
    "#### Heroku Procfile\n",
    "```\n",
    "# Procfile\n",
    "web: gunicorn app.main:API\n",
    "```\n",
    "\n",
    "#### AWS Procfile with 4 workers\n",
    "```\n",
    "# Procfile\n",
    "web: gunicorn app.main:API -w 4 -k uvicorn.workers.UvicornWorker\n",
    "```\n",
    "The exact application entrypoint `app.main:API` may be different for each project."
   ]
  },
  {
   "cell_type": "markdown",
   "metadata": {
    "id": "weX6xMzTbk71"
   },
   "source": [
    "## API Testing & Debugging\n",
    "- DocTest\n",
    "- Unit Tests\n",
    "- Testing an API"
   ]
  },
  {
   "cell_type": "markdown",
   "metadata": {
    "id": "ebaCoFSv4tPw"
   },
   "source": [
    "# Project Bandersnatch\n"
   ]
  },
  {
   "cell_type": "markdown",
   "metadata": {
    "id": "JxtKmBYNcYna"
   },
   "source": [
    "- Given:\n",
    "    - HTML Templates\n",
    "    - CSS Styles\n",
    "    - Data & Vis Interface\n",
    "    - ML Model Interface\n",
    "    - Requirements File\n",
    "    - Project Structure\n",
    "- Objectives:\n",
    "    1. Complete the Bandersnatch API\n",
    "    2. Hook-up the given pre-built modules\n",
    "    3. Conduct local testing\n",
    "    4. Deploy to the Cloud\n",
    "    5. Conduct remote testing\n",
    "    6. Share with friends and family\n",
    "\n",
    "### Project Tech Stack\n",
    "- Logic: Python3\n",
    "- API Framework: Flask\n",
    "- Templates: Jinja2\n",
    "- Layouts: HTML5\n",
    "- Styles: CSS 3\n",
    "- Database: CSV\n",
    "- Graphs & Charts: Altair\n",
    "- App Hosting: Heroku\n",
    "- Machine Learning: Scikit Learn"
   ]
  },
  {
   "cell_type": "markdown",
   "metadata": {
    "id": "-OHKNeeFmYFI"
   },
   "source": [
    "## Bandersnatch Project Structure\n",
    "\n",
    "- `/Project_Folder`\n",
    "    - `/app`\n",
    "        - `/data_source`\n",
    "            - `monsters.csv`\n",
    "        - `/saved_model`\n",
    "            - `model.job` - Auto Generated\n",
    "            - `notes.txt` - Auto Generated\n",
    "            - `saved_model.zip` - Auto Generated\n",
    "        - `/static`\n",
    "            - `/css`\n",
    "                - `form.css`\n",
    "                - `graph.css`\n",
    "                - `reset.css`\n",
    "                - `style.css`\n",
    "            - `/images`\n",
    "                - `favicon.png`\n",
    "        - `/templates`\n",
    "            - `create.html`\n",
    "            - `data.html`\n",
    "            - `index.html`\n",
    "            - `layout.html`\n",
    "            - `predict.html`\n",
    "            - `train.html`\n",
    "            - `view.html`\n",
    "        - `__init__.py`\n",
    "        - `api.py` <- Edit this file\n",
    "        - `data.py`\n",
    "        - `model.py`\n",
    "    - `Procfile`\n",
    "    - `requirements.txt`"
   ]
  },
  {
   "cell_type": "markdown",
   "metadata": {
    "id": "O-BVxJ6sjF9-"
   },
   "source": [
    "## `api.py`\n",
    "```python\n",
    "from flask import Flask, render_template, request\n",
    "from MonsterLab import Monster\n",
    "\n",
    "from app.data import Data\n",
    "from app.model import Model\n",
    "\n",
    "\n",
    "API = Flask(__name__)\n",
    "API.data = Data()\n",
    "API.model = Model()\n",
    "\n",
    "\n",
    "@APP.route(\"/\")\n",
    "def home():\n",
    "    return render_template(\"index.html\")\n",
    "\n",
    "\n",
    "@APP.route(\"/create\", methods=[\"GET\", \"POST\"])\n",
    "def create():\n",
    "    \"\"\" The Create Endpoint should accept GET and POST requests\n",
    "    - Load the input from the request body into the Monster class\n",
    "    - Save monster.to_dict() to the database\n",
    "    - Render the create html page \n",
    "    - Pass the required variables as kwargs to `render_template` \"\"\"\n",
    "    \n",
    "    name = request.values.get(\"name\")\n",
    "    monster_type = ...\n",
    "    level = ...\n",
    "    rarity = ...\n",
    "    monster = Monster(name, monster_type, level, rarity)\n",
    "\n",
    "    API.data.create(monster.to_dict())\n",
    "\n",
    "    return render_template(\n",
    "        \"create.html\",\n",
    "        name=name,\n",
    "        monster_type=monster_type,\n",
    "        level=level,\n",
    "        rarity=rarity,\n",
    "        monster=monster.to_dict(),\n",
    "    )\n",
    "\n",
    "\n",
    "@APP.route(\"/view\")\n",
    "def view():\n",
    "    ...\n",
    "\n",
    "\n",
    "@APP.route(\"/data\")\n",
    "def data():\n",
    "    ...\n",
    "\n",
    "\n",
    "@APP.route(\"/train\")\n",
    "def train():\n",
    "    ...\n",
    "\n",
    "\n",
    "@APP.route(\"/predict\")\n",
    "def predict():\n",
    "    ...\n",
    "\n",
    "```"
   ]
  },
  {
   "cell_type": "markdown",
   "metadata": {
    "id": "4l5GWlssvdIf"
   },
   "source": [
    "To run this locally:\n",
    "```\n",
    "$ cd Project_Folder\n",
    "$ python -m app.api\n",
    "```"
   ]
  },
  {
   "cell_type": "markdown",
   "metadata": {
    "id": "0lA9w-tcn18x"
   },
   "source": [
    "Implementing the API is your assignment. Each endpoint may take up to an hour or so to get working properly. Remember the 20-minute rule! The choice of *local* virtual environment is up to you. The deployed app should **not** be bound to one. Instead, the deployment platform will use its default, this remote environment will be built based on the requirements file.\n",
    "\n",
    "This project should work well in any version of Python3 from 3.7 to 3.10 and beyond. It is recommended to use the same version of Python as the one you will deploy to... at the time of this writing - Python 3.8 is the best choice."
   ]
  },
  {
   "cell_type": "markdown",
   "metadata": {
    "id": "20oCzfEwoPCA"
   },
   "source": [
    "### Random Monsters: MonsterLab & Fortuna"
   ]
  },
  {
   "cell_type": "markdown",
   "metadata": {
    "id": "UxlFiKRaG74O"
   },
   "source": [
    "Fortuna is a random value toolkit by Robert Sharp. If you would like to know more, here's the [Fortuna Documentation](https://pypi.org/project/Fortuna/). Unfortunately, Fortuna is currently incompatible with Windows. As such, it is recommended to run this notebook with Colab or Jupyter on WSL. Fortuna is 100% compatible with all *nix systems including macOS."
   ]
  },
  {
   "cell_type": "code",
   "metadata": {
    "id": "aCo6nZ9rnv_z",
    "colab": {
     "base_uri": "https://localhost:8080/"
    },
    "outputId": "383c8780-1942-4809-86b1-2d3c2b9538e1"
   },
   "source": [
    "!pip install MonsterLab --upgrade"
   ],
   "execution_count": null,
   "outputs": [
    {
     "output_type": "stream",
     "text": [
      "Collecting MonsterLab\n",
      "  Downloading MonsterLab-1.1.0-py3-none-any.whl (4.1 kB)\n",
      "Collecting Fortuna\n",
      "  Downloading Fortuna-4.1.9.tar.gz (205 kB)\n",
      "\u001B[K     |████████████████████████████████| 205 kB 8.1 MB/s \n",
      "\u001B[?25h  Installing build dependencies ... \u001B[?25l\u001B[?25hdone\n",
      "  Getting requirements to build wheel ... \u001B[?25l\u001B[?25hdone\n",
      "    Preparing wheel metadata ... \u001B[?25l\u001B[?25hdone\n",
      "Requirement already satisfied: pytz in /usr/local/lib/python3.7/dist-packages (from MonsterLab) (2018.9)\n",
      "Building wheels for collected packages: Fortuna\n",
      "  Building wheel for Fortuna (PEP 517) ... \u001B[?25l\u001B[?25hdone\n",
      "  Created wheel for Fortuna: filename=Fortuna-4.1.9-cp37-cp37m-linux_x86_64.whl size=549521 sha256=800147a14bd628d8b8bfeb6c034fb3cd0f9f904e02b16842e4d6768d0096feb8\n",
      "  Stored in directory: /root/.cache/pip/wheels/ed/74/9f/dc45c34c8c1ed479b0fbe13713448fa6aa39eb819c0e4ff717\n",
      "Successfully built Fortuna\n",
      "Installing collected packages: Fortuna, MonsterLab\n",
      "Successfully installed Fortuna-4.1.9 MonsterLab-1.1.0\n"
     ],
     "name": "stdout"
    }
   ]
  },
  {
   "cell_type": "code",
   "metadata": {
    "id": "GDnBfBzsnno7"
   },
   "source": [
    "import pandas as pd\n",
    "import datetime\n",
    "from time import sleep\n",
    "from MonsterLab import Monster"
   ],
   "execution_count": null,
   "outputs": []
  },
  {
   "cell_type": "markdown",
   "metadata": {
    "id": "JBrioc8U1W-a"
   },
   "source": [
    "Before we can do machine learning we need some data!"
   ]
  },
  {
   "cell_type": "markdown",
   "metadata": {
    "id": "UI4YHxMaF9L9"
   },
   "source": [
    "A Random Monster"
   ]
  },
  {
   "cell_type": "code",
   "metadata": {
    "id": "iyfhF9f0o-Xi",
    "colab": {
     "base_uri": "https://localhost:8080/"
    },
    "outputId": "d0e01380-7767-454a-a1d6-810a8f1ad279"
   },
   "source": [
    "Monster()"
   ],
   "execution_count": null,
   "outputs": [
    {
     "output_type": "execute_result",
     "data": {
      "text/plain": [
       "Name: Faerie Dragon\n",
       "Type: Dragon\n",
       "Level: 6\n",
       "Rarity: Rank 2\n",
       "Damage: 6d6\n",
       "Health: 36.35\n",
       "Energy: 36.09\n",
       "Sanity: 35.02\n",
       "Time Stamp: 2021-08-20 07:55:09"
      ]
     },
     "metadata": {},
     "execution_count": 3
    }
   ]
  },
  {
   "cell_type": "markdown",
   "metadata": {
    "id": "eaPjg2EGisM9"
   },
   "source": [
    "Generate Mock Monster Data.\n",
    "\n",
    "5000 should make for a good model, but play with it, see what you can find with different values for the `number` variable below."
   ]
  },
  {
   "cell_type": "code",
   "metadata": {
    "id": "p0SIe9jOWmKW",
    "colab": {
     "base_uri": "https://localhost:8080/",
     "height": 419
    },
    "outputId": "df3ddc12-f82b-405b-a807-6fd074aba3fb"
   },
   "source": [
    "number = 5000\n",
    "\n",
    "df = pd.DataFrame(Monster().to_dict() for _ in range(number))\n",
    "\n",
    "df.to_csv(\"monsters.csv\", index=False)\n",
    "\n",
    "df"
   ],
   "execution_count": null,
   "outputs": [
    {
     "output_type": "execute_result",
     "data": {
      "text/html": [
       "<div>\n",
       "<style scoped>\n",
       "    .dataframe tbody tr th:only-of-type {\n",
       "        vertical-align: middle;\n",
       "    }\n",
       "\n",
       "    .dataframe tbody tr th {\n",
       "        vertical-align: top;\n",
       "    }\n",
       "\n",
       "    .dataframe thead th {\n",
       "        text-align: right;\n",
       "    }\n",
       "</style>\n",
       "<table border=\"1\" class=\"dataframe\">\n",
       "  <thead>\n",
       "    <tr style=\"text-align: right;\">\n",
       "      <th></th>\n",
       "      <th>Name</th>\n",
       "      <th>Type</th>\n",
       "      <th>Level</th>\n",
       "      <th>Rarity</th>\n",
       "      <th>Damage</th>\n",
       "      <th>Health</th>\n",
       "      <th>Energy</th>\n",
       "      <th>Sanity</th>\n",
       "      <th>Time Stamp</th>\n",
       "    </tr>\n",
       "  </thead>\n",
       "  <tbody>\n",
       "    <tr>\n",
       "      <th>0</th>\n",
       "      <td>Djinni</td>\n",
       "      <td>Elemental</td>\n",
       "      <td>8</td>\n",
       "      <td>Rank 1</td>\n",
       "      <td>8d4+1</td>\n",
       "      <td>33.13</td>\n",
       "      <td>31.79</td>\n",
       "      <td>31.86</td>\n",
       "      <td>2021-08-20 07:55:11</td>\n",
       "    </tr>\n",
       "    <tr>\n",
       "      <th>1</th>\n",
       "      <td>Ghast</td>\n",
       "      <td>Undead</td>\n",
       "      <td>6</td>\n",
       "      <td>Rank 2</td>\n",
       "      <td>6d6+1</td>\n",
       "      <td>37.11</td>\n",
       "      <td>34.77</td>\n",
       "      <td>33.15</td>\n",
       "      <td>2021-08-20 07:55:11</td>\n",
       "    </tr>\n",
       "    <tr>\n",
       "      <th>2</th>\n",
       "      <td>Goblin Villager</td>\n",
       "      <td>Devilkin</td>\n",
       "      <td>6</td>\n",
       "      <td>Rank 5</td>\n",
       "      <td>6d12+3</td>\n",
       "      <td>67.66</td>\n",
       "      <td>66.62</td>\n",
       "      <td>75.75</td>\n",
       "      <td>2021-08-20 07:55:11</td>\n",
       "    </tr>\n",
       "    <tr>\n",
       "      <th>3</th>\n",
       "      <td>Faerie Dragon</td>\n",
       "      <td>Dragon</td>\n",
       "      <td>6</td>\n",
       "      <td>Rank 0</td>\n",
       "      <td>6d2+1</td>\n",
       "      <td>12.19</td>\n",
       "      <td>12.65</td>\n",
       "      <td>11.96</td>\n",
       "      <td>2021-08-20 07:55:11</td>\n",
       "    </tr>\n",
       "    <tr>\n",
       "      <th>4</th>\n",
       "      <td>Mud Spirit</td>\n",
       "      <td>Fey</td>\n",
       "      <td>9</td>\n",
       "      <td>Rank 0</td>\n",
       "      <td>9d2+2</td>\n",
       "      <td>18.67</td>\n",
       "      <td>18.05</td>\n",
       "      <td>17.51</td>\n",
       "      <td>2021-08-20 07:55:11</td>\n",
       "    </tr>\n",
       "    <tr>\n",
       "      <th>...</th>\n",
       "      <td>...</td>\n",
       "      <td>...</td>\n",
       "      <td>...</td>\n",
       "      <td>...</td>\n",
       "      <td>...</td>\n",
       "      <td>...</td>\n",
       "      <td>...</td>\n",
       "      <td>...</td>\n",
       "      <td>...</td>\n",
       "    </tr>\n",
       "    <tr>\n",
       "      <th>4995</th>\n",
       "      <td>Copper Demon</td>\n",
       "      <td>Demonic</td>\n",
       "      <td>7</td>\n",
       "      <td>Rank 2</td>\n",
       "      <td>7d6</td>\n",
       "      <td>41.08</td>\n",
       "      <td>41.67</td>\n",
       "      <td>40.69</td>\n",
       "      <td>2021-08-20 07:55:11</td>\n",
       "    </tr>\n",
       "    <tr>\n",
       "      <th>4996</th>\n",
       "      <td>Kobold Villager</td>\n",
       "      <td>Devilkin</td>\n",
       "      <td>5</td>\n",
       "      <td>Rank 1</td>\n",
       "      <td>5d4+3</td>\n",
       "      <td>18.60</td>\n",
       "      <td>19.71</td>\n",
       "      <td>21.72</td>\n",
       "      <td>2021-08-20 07:55:11</td>\n",
       "    </tr>\n",
       "    <tr>\n",
       "      <th>4997</th>\n",
       "      <td>Red Wyrmling</td>\n",
       "      <td>Dragon</td>\n",
       "      <td>9</td>\n",
       "      <td>Rank 1</td>\n",
       "      <td>9d4+3</td>\n",
       "      <td>37.61</td>\n",
       "      <td>34.42</td>\n",
       "      <td>36.33</td>\n",
       "      <td>2021-08-20 07:55:11</td>\n",
       "    </tr>\n",
       "    <tr>\n",
       "      <th>4998</th>\n",
       "      <td>Djinni</td>\n",
       "      <td>Elemental</td>\n",
       "      <td>5</td>\n",
       "      <td>Rank 5</td>\n",
       "      <td>5d12+3</td>\n",
       "      <td>62.67</td>\n",
       "      <td>61.87</td>\n",
       "      <td>55.46</td>\n",
       "      <td>2021-08-20 07:55:11</td>\n",
       "    </tr>\n",
       "    <tr>\n",
       "      <th>4999</th>\n",
       "      <td>Night Hag</td>\n",
       "      <td>Demonic</td>\n",
       "      <td>3</td>\n",
       "      <td>Rank 0</td>\n",
       "      <td>3d2+3</td>\n",
       "      <td>5.23</td>\n",
       "      <td>5.00</td>\n",
       "      <td>5.58</td>\n",
       "      <td>2021-08-20 07:55:11</td>\n",
       "    </tr>\n",
       "  </tbody>\n",
       "</table>\n",
       "<p>5000 rows × 9 columns</p>\n",
       "</div>"
      ],
      "text/plain": [
       "                 Name       Type  Level  ... Energy Sanity           Time Stamp\n",
       "0              Djinni  Elemental      8  ...  31.79  31.86  2021-08-20 07:55:11\n",
       "1               Ghast     Undead      6  ...  34.77  33.15  2021-08-20 07:55:11\n",
       "2     Goblin Villager   Devilkin      6  ...  66.62  75.75  2021-08-20 07:55:11\n",
       "3       Faerie Dragon     Dragon      6  ...  12.65  11.96  2021-08-20 07:55:11\n",
       "4          Mud Spirit        Fey      9  ...  18.05  17.51  2021-08-20 07:55:11\n",
       "...               ...        ...    ...  ...    ...    ...                  ...\n",
       "4995     Copper Demon    Demonic      7  ...  41.67  40.69  2021-08-20 07:55:11\n",
       "4996  Kobold Villager   Devilkin      5  ...  19.71  21.72  2021-08-20 07:55:11\n",
       "4997     Red Wyrmling     Dragon      9  ...  34.42  36.33  2021-08-20 07:55:11\n",
       "4998           Djinni  Elemental      5  ...  61.87  55.46  2021-08-20 07:55:11\n",
       "4999        Night Hag    Demonic      3  ...   5.00   5.58  2021-08-20 07:55:11\n",
       "\n",
       "[5000 rows x 9 columns]"
      ]
     },
     "metadata": {},
     "execution_count": 4
    }
   ]
  },
  {
   "cell_type": "markdown",
   "metadata": {
    "id": "YL9nZpjgYfHY"
   },
   "source": [
    "Read data from the monster.csv file we created in a previous step."
   ]
  },
  {
   "cell_type": "code",
   "metadata": {
    "id": "jebKw1LJYRFe"
   },
   "source": [
    "df = pd.read_csv(...)\n",
    "df"
   ],
   "execution_count": null,
   "outputs": []
  },
  {
   "cell_type": "markdown",
   "metadata": {
    "id": "7MlXSvIDeuw1"
   },
   "source": [
    "Drop or encode non-numeric data, except for our rarity target, we'll need that one."
   ]
  },
  {
   "cell_type": "code",
   "metadata": {
    "id": "DouEcYjUK1xh"
   },
   "source": [
    "df = df.drop(...)\n",
    "df"
   ],
   "execution_count": null,
   "outputs": []
  },
  {
   "cell_type": "markdown",
   "metadata": {
    "id": "yjY2YKbcezEg"
   },
   "source": [
    "### Set Target & Features"
   ]
  },
  {
   "cell_type": "markdown",
   "metadata": {
    "id": "EFnIsGJhfQE2"
   },
   "source": [
    "Target"
   ]
  },
  {
   "cell_type": "code",
   "metadata": {
    "id": "vANRWmaye29H"
   },
   "source": [
    "target = df[\"Rarity\"]\n",
    "target"
   ],
   "execution_count": null,
   "outputs": []
  },
  {
   "cell_type": "markdown",
   "metadata": {
    "id": "bvrbdCKJfPpW"
   },
   "source": [
    "Features"
   ]
  },
  {
   "cell_type": "code",
   "metadata": {
    "id": "0B-ZSGDTfPNa"
   },
   "source": [
    "features = df.drop(columns=[\"Rarity\"])\n",
    "features"
   ],
   "execution_count": null,
   "outputs": []
  },
  {
   "cell_type": "code",
   "metadata": {
    "id": "ZhkIuVmEDaci"
   },
   "source": [
    ""
   ],
   "execution_count": null,
   "outputs": []
  }
 ]
}